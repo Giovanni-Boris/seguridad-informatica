{
  "nbformat": 4,
  "nbformat_minor": 0,
  "metadata": {
    "colab": {
      "provenance": []
    },
    "kernelspec": {
      "name": "python3",
      "display_name": "Python 3"
    },
    "language_info": {
      "name": "python"
    }
  },
  "cells": [
    {
      "cell_type": "markdown",
      "source": [
        "4.1 Realizar sustituciones"
      ],
      "metadata": {
        "id": "LIu6BX3HguNz"
      }
    },
    {
      "cell_type": "code",
      "execution_count": 1,
      "metadata": {
        "colab": {
          "base_uri": "https://localhost:8080/"
        },
        "id": "vbQpA6l-gTZO",
        "outputId": "e1c7fe17-f825-4166-b3c1-acefec840510"
      },
      "outputs": [
        {
          "output_type": "stream",
          "name": "stdout",
          "text": [
            "\n",
            "Bien puede el mundo entepo conjupupse\n",
            "contpu mi dulce umop y mi tepnupu,\n",
            "y el odio infume y tipuníu dupu\n",
            "de todo su pigop contpu mí upmupse.\n",
            "Bien puede el tiempo pápido cebupse\n",
            "en lu gpuciu y ppimop de su tepmosupu,\n",
            "pupu que cuul si fuese llumu impupu\n",
            "puedu el fuego de umop en mí ucubupse.\n",
            "Bien puede en fin lu suepte fucilunte,\n",
            "que elefu, ubute, ensulyu y utpopellu,\n",
            "ulyupme o ubutipme en un instunte;\n",
            "Que el mundo, ul tiempo y u mi fupiu estpellu,\n",
            "más fino cudu fey y más constunte,\n",
            "les dipé: «Silfiu es míu y yo soy de ellu».\n",
            "\n"
          ]
        }
      ],
      "source": [
        "# Texto original\n",
        "texto = \"\"\"\n",
        "Bien puede el mundo entero conjurarse\n",
        "contra mi dulce amor y mi ternura,\n",
        "y el odio infame y tiranía dura\n",
        "de todo su rigor contra mí armarse.\n",
        "Bien puede el tiempo rápido cebarse\n",
        "en la gracia y primor de su hermosura,\n",
        "para que cual si fuese llama impura\n",
        "pueda el fuego de amor en mí acabarse.\n",
        "Bien puede en fin la suerte vacilante,\n",
        "que eleva, abate, ensalza y atropella,\n",
        "alzarme o abatirme en un instante;\n",
        "Que el mundo, al tiempo y a mi varia estrella,\n",
        "más fino cada vez y más constante,\n",
        "les diré: «Silvia es mía y yo soy de ella».\n",
        "\"\"\"\n",
        "\n",
        "# Realizar las sustituciones\n",
        "sustituciones = {\n",
        "    'a': 'u', 'A': 'u', 'h': 't', 'H': 't',\n",
        "    'ñ': 'e', 'Ñ': 'e', 'k': 'l', 'K': 'l',\n",
        "    'v': 'f', 'V': 'f', 'w': 'b', 'W': 'b',\n",
        "    'z': 'y', 'Z': 'y', 'r': 'p', 'R': 'p'\n",
        "}\n",
        "\n",
        "for k, v in sustituciones.items():\n",
        "    texto = texto.replace(k, v)\n",
        "\n",
        "print(texto)\n"
      ]
    },
    {
      "cell_type": "markdown",
      "source": [
        "4.2 Eliminar las tildes"
      ],
      "metadata": {
        "id": "JPc41rqfgy3N"
      }
    },
    {
      "cell_type": "code",
      "source": [
        "import unicodedata\n",
        "\n",
        "def eliminar_tildes(texto):\n",
        "    return ''.join(\n",
        "        c for c in unicodedata.normalize('NFD', texto)\n",
        "        if unicodedata.category(c) != 'Mn'\n",
        "    )\n",
        "\n",
        "texto_sin_tildes = eliminar_tildes(texto)\n",
        "print(texto_sin_tildes)\n"
      ],
      "metadata": {
        "colab": {
          "base_uri": "https://localhost:8080/"
        },
        "id": "uiXs7EqDghBD",
        "outputId": "10e706b3-1d3e-4c50-b23f-fc89d7c5a34c"
      },
      "execution_count": 2,
      "outputs": [
        {
          "output_type": "stream",
          "name": "stdout",
          "text": [
            "\n",
            "Bien puede el mundo entepo conjupupse\n",
            "contpu mi dulce umop y mi tepnupu,\n",
            "y el odio infume y tipuniu dupu\n",
            "de todo su pigop contpu mi upmupse.\n",
            "Bien puede el tiempo papido cebupse\n",
            "en lu gpuciu y ppimop de su tepmosupu,\n",
            "pupu que cuul si fuese llumu impupu\n",
            "puedu el fuego de umop en mi ucubupse.\n",
            "Bien puede en fin lu suepte fucilunte,\n",
            "que elefu, ubute, ensulyu y utpopellu,\n",
            "ulyupme o ubutipme en un instunte;\n",
            "Que el mundo, ul tiempo y u mi fupiu estpellu,\n",
            "mas fino cudu fey y mas constunte,\n",
            "les dipe: «Silfiu es miu y yo soy de ellu».\n",
            "\n"
          ]
        }
      ]
    },
    {
      "cell_type": "markdown",
      "source": [
        "4.3 Convertir todas las letras a mayúsculas"
      ],
      "metadata": {
        "id": "YQDB_ayqg2r7"
      }
    },
    {
      "cell_type": "code",
      "source": [
        "texto_mayusculas = texto_sin_tildes.upper()\n",
        "print(texto_mayusculas)\n"
      ],
      "metadata": {
        "colab": {
          "base_uri": "https://localhost:8080/"
        },
        "id": "2sRN9LrYgmf7",
        "outputId": "075be0ed-b65f-4849-bed3-29d878ada220"
      },
      "execution_count": 3,
      "outputs": [
        {
          "output_type": "stream",
          "name": "stdout",
          "text": [
            "\n",
            "BIEN PUEDE EL MUNDO ENTEPO CONJUPUPSE\n",
            "CONTPU MI DULCE UMOP Y MI TEPNUPU,\n",
            "Y EL ODIO INFUME Y TIPUNIU DUPU\n",
            "DE TODO SU PIGOP CONTPU MI UPMUPSE.\n",
            "BIEN PUEDE EL TIEMPO PAPIDO CEBUPSE\n",
            "EN LU GPUCIU Y PPIMOP DE SU TEPMOSUPU,\n",
            "PUPU QUE CUUL SI FUESE LLUMU IMPUPU\n",
            "PUEDU EL FUEGO DE UMOP EN MI UCUBUPSE.\n",
            "BIEN PUEDE EN FIN LU SUEPTE FUCILUNTE,\n",
            "QUE ELEFU, UBUTE, ENSULYU Y UTPOPELLU,\n",
            "ULYUPME O UBUTIPME EN UN INSTUNTE;\n",
            "QUE EL MUNDO, UL TIEMPO Y U MI FUPIU ESTPELLU,\n",
            "MAS FINO CUDU FEY Y MAS CONSTUNTE,\n",
            "LES DIPE: «SILFIU ES MIU Y YO SOY DE ELLU».\n",
            "\n"
          ]
        }
      ]
    }
  ]
}